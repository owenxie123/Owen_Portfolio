{
  "nbformat": 4,
  "nbformat_minor": 0,
  "metadata": {
    "kernelspec": {
      "display_name": "Python 3",
      "language": "python",
      "name": "python3"
    },
    "language_info": {
      "codemirror_mode": {
        "name": "ipython",
        "version": 3
      },
      "file_extension": ".py",
      "mimetype": "text/x-python",
      "name": "python",
      "nbconvert_exporter": "python",
      "pygments_lexer": "ipython3",
      "version": "3.8.5"
    },
    "colab": {
      "name": "Dosage, Timing, and IV.ipynb",
      "provenance": [],
      "collapsed_sections": []
    }
  },
  "cells": [
    {
      "cell_type": "code",
      "metadata": {
        "id": "ZhiHocqJA2m5"
      },
      "source": [
        "import pandas as pd\n",
        "import numpy as np\n",
        "import statsmodels.formula.api as smf\n",
        "from statsmodels.sandbox.regression.gmm import IV2SLS\n",
        "from scipy.stats import ttest_ind\n",
        "from google.colab import files\n",
        "import io\n",
        "import matplotlib.pyplot as plt\n",
        "import seaborn as sns"
      ],
      "execution_count": null,
      "outputs": []
    },
    {
      "cell_type": "markdown",
      "metadata": {
        "id": "umRhDFjiA2m7"
      },
      "source": [
        "# Problem:\n",
        "In this problem set, we are going to examine data similar to the Pandora Ad Demand Paper.\n",
        "\n",
        "In this project, we will move beyond treatment effects to investigate dosage, investigate how treatment effects change over time, use instrument variable to handle non-compliance in the experiment and Examine heterogeneous treatment effects.\n",
        "\n",
        "We are for the first time going to examine an experiment where we care less about using the cells of an experiment and care more about the dosage of the treatment. "
      ]
    },
    {
      "cell_type": "markdown",
      "metadata": {
        "id": "1mPSga1KA2m6"
      },
      "source": [
        "# Setup:\n",
        "\n",
        "Read in the file “pandora_ad_data.csv” to a dataframe named *df* \n",
        "\n",
        "I have provided a data dictionary below:\n",
        "- **user_id**:  a unique identifier for each user\n",
        "- **city**: the city a user resides in\n",
        "- **sex**: the sex of the suer\n",
        "- **age**: the age of the user (bucketed into 4 age groups)  ['13-17', '18-24', '25-54', '55+']\n",
        "- **cell**: an integer 0-9 representing the cell the user was allocated to. Cell 0 is the control cell and cells 1-9 are different treatments\n",
        "- **week** the week of the experiment for which we are looking at data\n",
        "- **interruptions** the number of interruptions Pandora *intends* to deliver based on the cell designation\n",
        "- **ads_per** the number of ads per interruption Pandora *intends* to deliver based on the cell designation\n",
        "- **ad_min_actual** the number of minutes of ads per hour the Pandora actually delivered to the user in a week\n",
        "- **play_min**: the number of minutes a user listened to Pandora in the week\n"
      ]
    },
    {
      "cell_type": "code",
      "metadata": {
        "colab": {
          "resources": {
            "http://localhost:8080/nbextensions/google.colab/files.js": {
              "data": "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",
              "ok": true,
              "headers": [
                [
                  "content-type",
                  "application/javascript"
                ]
              ],
              "status": 200,
              "status_text": ""
            }
          },
          "base_uri": "https://localhost:8080/",
          "height": 72
        },
        "id": "nRXgYLz8CQJn",
        "outputId": "7206f67e-e98f-42df-8b83-35c04004bcaf"
      },
      "source": [
        "uploaded = files.upload()"
      ],
      "execution_count": null,
      "outputs": [
        {
          "output_type": "display_data",
          "data": {
            "text/html": [
              "\n",
              "     <input type=\"file\" id=\"files-2e233c37-7fa8-48c4-9426-8ffd925dfa11\" name=\"files[]\" multiple disabled\n",
              "        style=\"border:none\" />\n",
              "     <output id=\"result-2e233c37-7fa8-48c4-9426-8ffd925dfa11\">\n",
              "      Upload widget is only available when the cell has been executed in the\n",
              "      current browser session. Please rerun this cell to enable.\n",
              "      </output>\n",
              "      <script src=\"/nbextensions/google.colab/files.js\"></script> "
            ],
            "text/plain": [
              "<IPython.core.display.HTML object>"
            ]
          },
          "metadata": {
            "tags": []
          }
        },
        {
          "output_type": "stream",
          "text": [
            "Saving pandora_ad_data.csv to pandora_ad_data (2).csv\n"
          ],
          "name": "stdout"
        }
      ]
    },
    {
      "cell_type": "code",
      "metadata": {
        "id": "sWJ5SHrhA2m7"
      },
      "source": [
        "df = pd.read_csv(io.BytesIO(uploaded['pandora_ad_data.csv']))"
      ],
      "execution_count": null,
      "outputs": []
    },
    {
      "cell_type": "markdown",
      "metadata": {
        "id": "4NnhUyffA2m7"
      },
      "source": [
        "\n",
        "For this problem we are going to examine only data at the end of an experiment. \n",
        "- i. Make a new dataframe, *df_end*, where we only take the data from the last week of the experiment. Use the “week” variable to find the last week, and subset the data to just that week. \n",
        "- ii. how many weeks are there in the experiment?\n",
        "- iii. how many users are there per week?"
      ]
    },
    {
      "cell_type": "code",
      "metadata": {
        "colab": {
          "base_uri": "https://localhost:8080/"
        },
        "id": "2rUjbLfUM5O1",
        "outputId": "2e905c94-6b21-4f44-ef71-b83c518d36c8"
      },
      "source": [
        "df.week.nunique()"
      ],
      "execution_count": null,
      "outputs": [
        {
          "output_type": "execute_result",
          "data": {
            "text/plain": [
              "112"
            ]
          },
          "metadata": {
            "tags": []
          },
          "execution_count": 11
        }
      ]
    },
    {
      "cell_type": "code",
      "metadata": {
        "colab": {
          "base_uri": "https://localhost:8080/"
        },
        "id": "8fgAXAP2NTTY",
        "outputId": "ccf1c7b1-1ab5-4577-fee9-d2b57838e533"
      },
      "source": [
        "df.user_id.count()/df.week.nunique()"
      ],
      "execution_count": null,
      "outputs": [
        {
          "output_type": "execute_result",
          "data": {
            "text/plain": [
              "48000.0"
            ]
          },
          "metadata": {
            "tags": []
          },
          "execution_count": 12
        }
      ]
    },
    {
      "cell_type": "code",
      "metadata": {
        "colab": {
          "base_uri": "https://localhost:8080/",
          "height": 419
        },
        "id": "BN2z3rFFOmVI",
        "outputId": "adf21bca-d017-46df-9d85-c16635f294dd"
      },
      "source": [
        "df_end = df.loc[df[\"week\"]==df.week.max(),[\"user_id\",\"city\",\"sex\",\"age\",\"cell\",\"week\",\"interruptions\",\"ads_per\",\"ad_min_actual\",\"play_min\"]]\n",
        "df_end"
      ],
      "execution_count": null,
      "outputs": [
        {
          "output_type": "execute_result",
          "data": {
            "text/html": [
              "<div>\n",
              "<style scoped>\n",
              "    .dataframe tbody tr th:only-of-type {\n",
              "        vertical-align: middle;\n",
              "    }\n",
              "\n",
              "    .dataframe tbody tr th {\n",
              "        vertical-align: top;\n",
              "    }\n",
              "\n",
              "    .dataframe thead th {\n",
              "        text-align: right;\n",
              "    }\n",
              "</style>\n",
              "<table border=\"1\" class=\"dataframe\">\n",
              "  <thead>\n",
              "    <tr style=\"text-align: right;\">\n",
              "      <th></th>\n",
              "      <th>user_id</th>\n",
              "      <th>city</th>\n",
              "      <th>sex</th>\n",
              "      <th>age</th>\n",
              "      <th>cell</th>\n",
              "      <th>week</th>\n",
              "      <th>interruptions</th>\n",
              "      <th>ads_per</th>\n",
              "      <th>ad_min_actual</th>\n",
              "      <th>play_min</th>\n",
              "    </tr>\n",
              "  </thead>\n",
              "  <tbody>\n",
              "    <tr>\n",
              "      <th>111</th>\n",
              "      <td>0</td>\n",
              "      <td>Los Angeles</td>\n",
              "      <td>F</td>\n",
              "      <td>18-24</td>\n",
              "      <td>8</td>\n",
              "      <td>111</td>\n",
              "      <td>9</td>\n",
              "      <td>1.5</td>\n",
              "      <td>6.716641</td>\n",
              "      <td>0.000000</td>\n",
              "    </tr>\n",
              "    <tr>\n",
              "      <th>223</th>\n",
              "      <td>1</td>\n",
              "      <td>Tampa-St. Pete (Sarasota)</td>\n",
              "      <td>F</td>\n",
              "      <td>18-24</td>\n",
              "      <td>0</td>\n",
              "      <td>111</td>\n",
              "      <td>4</td>\n",
              "      <td>1.5</td>\n",
              "      <td>3.454053</td>\n",
              "      <td>0.000000</td>\n",
              "    </tr>\n",
              "    <tr>\n",
              "      <th>335</th>\n",
              "      <td>2</td>\n",
              "      <td>Washington - DC (Hagrstwn)</td>\n",
              "      <td>F</td>\n",
              "      <td>25-54</td>\n",
              "      <td>0</td>\n",
              "      <td>111</td>\n",
              "      <td>4</td>\n",
              "      <td>1.5</td>\n",
              "      <td>3.764045</td>\n",
              "      <td>0.000000</td>\n",
              "    </tr>\n",
              "    <tr>\n",
              "      <th>447</th>\n",
              "      <td>3</td>\n",
              "      <td>Atlanta</td>\n",
              "      <td>F</td>\n",
              "      <td>55+</td>\n",
              "      <td>9</td>\n",
              "      <td>111</td>\n",
              "      <td>6</td>\n",
              "      <td>2.0</td>\n",
              "      <td>4.701268</td>\n",
              "      <td>109.038297</td>\n",
              "    </tr>\n",
              "    <tr>\n",
              "      <th>559</th>\n",
              "      <td>4</td>\n",
              "      <td>Tampa-St. Pete (Sarasota)</td>\n",
              "      <td>F</td>\n",
              "      <td>25-54</td>\n",
              "      <td>0</td>\n",
              "      <td>111</td>\n",
              "      <td>4</td>\n",
              "      <td>1.5</td>\n",
              "      <td>3.647815</td>\n",
              "      <td>58.821649</td>\n",
              "    </tr>\n",
              "    <tr>\n",
              "      <th>...</th>\n",
              "      <td>...</td>\n",
              "      <td>...</td>\n",
              "      <td>...</td>\n",
              "      <td>...</td>\n",
              "      <td>...</td>\n",
              "      <td>...</td>\n",
              "      <td>...</td>\n",
              "      <td>...</td>\n",
              "      <td>...</td>\n",
              "      <td>...</td>\n",
              "    </tr>\n",
              "    <tr>\n",
              "      <th>5375551</th>\n",
              "      <td>47995</td>\n",
              "      <td>Atlanta</td>\n",
              "      <td>F</td>\n",
              "      <td>25-54</td>\n",
              "      <td>2</td>\n",
              "      <td>111</td>\n",
              "      <td>3</td>\n",
              "      <td>1.5</td>\n",
              "      <td>1.042000</td>\n",
              "      <td>848.279509</td>\n",
              "    </tr>\n",
              "    <tr>\n",
              "      <th>5375663</th>\n",
              "      <td>47996</td>\n",
              "      <td>New York</td>\n",
              "      <td>M</td>\n",
              "      <td>25-54</td>\n",
              "      <td>6</td>\n",
              "      <td>111</td>\n",
              "      <td>4</td>\n",
              "      <td>2.0</td>\n",
              "      <td>4.511553</td>\n",
              "      <td>340.600506</td>\n",
              "    </tr>\n",
              "    <tr>\n",
              "      <th>5375775</th>\n",
              "      <td>47997</td>\n",
              "      <td>Miami-Ft. Lauderdale</td>\n",
              "      <td>F</td>\n",
              "      <td>18-24</td>\n",
              "      <td>8</td>\n",
              "      <td>111</td>\n",
              "      <td>9</td>\n",
              "      <td>1.5</td>\n",
              "      <td>6.318614</td>\n",
              "      <td>81.400090</td>\n",
              "    </tr>\n",
              "    <tr>\n",
              "      <th>5375887</th>\n",
              "      <td>47998</td>\n",
              "      <td>Boston (Manchester)</td>\n",
              "      <td>F</td>\n",
              "      <td>25-54</td>\n",
              "      <td>6</td>\n",
              "      <td>111</td>\n",
              "      <td>4</td>\n",
              "      <td>2.0</td>\n",
              "      <td>4.084964</td>\n",
              "      <td>133.806808</td>\n",
              "    </tr>\n",
              "    <tr>\n",
              "      <th>5375999</th>\n",
              "      <td>47999</td>\n",
              "      <td>Phoenix (Prescott)</td>\n",
              "      <td>M</td>\n",
              "      <td>55+</td>\n",
              "      <td>0</td>\n",
              "      <td>111</td>\n",
              "      <td>4</td>\n",
              "      <td>1.5</td>\n",
              "      <td>1.077684</td>\n",
              "      <td>184.127236</td>\n",
              "    </tr>\n",
              "  </tbody>\n",
              "</table>\n",
              "<p>48000 rows × 10 columns</p>\n",
              "</div>"
            ],
            "text/plain": [
              "         user_id                        city  ... ad_min_actual    play_min\n",
              "111            0                 Los Angeles  ...      6.716641    0.000000\n",
              "223            1   Tampa-St. Pete (Sarasota)  ...      3.454053    0.000000\n",
              "335            2  Washington - DC (Hagrstwn)  ...      3.764045    0.000000\n",
              "447            3                     Atlanta  ...      4.701268  109.038297\n",
              "559            4   Tampa-St. Pete (Sarasota)  ...      3.647815   58.821649\n",
              "...          ...                         ...  ...           ...         ...\n",
              "5375551    47995                     Atlanta  ...      1.042000  848.279509\n",
              "5375663    47996                    New York  ...      4.511553  340.600506\n",
              "5375775    47997        Miami-Ft. Lauderdale  ...      6.318614   81.400090\n",
              "5375887    47998         Boston (Manchester)  ...      4.084964  133.806808\n",
              "5375999    47999          Phoenix (Prescott)  ...      1.077684  184.127236\n",
              "\n",
              "[48000 rows x 10 columns]"
            ]
          },
          "metadata": {
            "tags": []
          },
          "execution_count": 13
        }
      ]
    },
    {
      "cell_type": "markdown",
      "metadata": {
        "id": "f6Zs_PD1PUU9"
      },
      "source": [
        "There are total 112 weeks in the experiment; and 48,000 users/week."
      ]
    },
    {
      "cell_type": "markdown",
      "metadata": {
        "id": "PDa5oQm7A2m8"
      },
      "source": [
        "We have 10 cells in this experiment, a control (Cell= 0) and 9 treatment cells.  For each cell in the experiment, calculate change in played minutes between control and that particular cell (hint, subset df_end into a dataframe that only has cell 0 and the comparison cell), and use a ** difference in means t-test**  to state whether the change was statistically significantly different from 0. \n"
      ]
    },
    {
      "cell_type": "code",
      "metadata": {
        "id": "SvnY9trpXf2n"
      },
      "source": [
        "def getpval (df_end, y):\n",
        "    Y_t = df_end.loc[df_end[\"cell\"]==y,[\"play_min\"]]\n",
        "    Y_c = df_end.loc[df_end[\"cell\"]==0,[\"play_min\"]]\n",
        "    t_stat, p_val = ttest_ind(Y_t,Y_c)\n",
        "    return p_val"
      ],
      "execution_count": null,
      "outputs": []
    },
    {
      "cell_type": "code",
      "metadata": {
        "colab": {
          "base_uri": "https://localhost:8080/"
        },
        "id": "L8qSGef7ijPs",
        "outputId": "ae507234-c14e-4ff3-f6fc-4481877c03fc"
      },
      "source": [
        "m = []\n",
        "for i in range(10):\n",
        "    pval = getpval(df_end, i)\n",
        "    m.append(pval)\n",
        "print(m)"
      ],
      "execution_count": null,
      "outputs": [
        {
          "output_type": "stream",
          "text": [
            "[array([1.]), array([0.32376464]), array([0.96983576]), array([0.86586377]), array([0.74151538]), array([0.77053117]), array([0.14233441]), array([0.50856853]), array([0.00024577]), array([0.00077675])]\n"
          ],
          "name": "stdout"
        }
      ]
    },
    {
      "cell_type": "code",
      "metadata": {
        "colab": {
          "base_uri": "https://localhost:8080/",
          "height": 390
        },
        "id": "YcS3TXPBPuuu",
        "outputId": "966c8afb-61dd-4c05-a486-22a680b23391"
      },
      "source": [
        "df_cell = pd.DataFrame(df_end.groupby(\"cell\").play_min.mean())\n",
        "cell_0 = df_end.loc[df[\"cell\"]==0,\"play_min\"].mean()\n",
        "df_cell[\"cell_0\"] = cell_0\n",
        "df_cell[\"Y_ATE\"] = df_cell.play_min - df_cell.cell_0\n",
        "df_cell[\"P_val\"] = m\n",
        "df_cell[\"interruptions\"] = df_end.groupby(\"cell\").interruptions.mean()\n",
        "df_cell[\"ads_per\"] = df_end.groupby(\"cell\").ads_per.mean()\n",
        "df_cell[\"treated_ad_min\"] = df_cell.ads_per*df_cell.interruptions*0.5\n",
        "df_cell[\"min_in_diff\"] = df_cell.treated_ad_min - 3\n",
        "df_cell"
      ],
      "execution_count": null,
      "outputs": [
        {
          "output_type": "execute_result",
          "data": {
            "text/html": [
              "<div>\n",
              "<style scoped>\n",
              "    .dataframe tbody tr th:only-of-type {\n",
              "        vertical-align: middle;\n",
              "    }\n",
              "\n",
              "    .dataframe tbody tr th {\n",
              "        vertical-align: top;\n",
              "    }\n",
              "\n",
              "    .dataframe thead th {\n",
              "        text-align: right;\n",
              "    }\n",
              "</style>\n",
              "<table border=\"1\" class=\"dataframe\">\n",
              "  <thead>\n",
              "    <tr style=\"text-align: right;\">\n",
              "      <th></th>\n",
              "      <th>play_min</th>\n",
              "      <th>cell_0</th>\n",
              "      <th>Y_ATE</th>\n",
              "      <th>P_val</th>\n",
              "      <th>interruptions</th>\n",
              "      <th>ads_per</th>\n",
              "      <th>treated_ad_min</th>\n",
              "      <th>min_in_diff</th>\n",
              "    </tr>\n",
              "    <tr>\n",
              "      <th>cell</th>\n",
              "      <th></th>\n",
              "      <th></th>\n",
              "      <th></th>\n",
              "      <th></th>\n",
              "      <th></th>\n",
              "      <th></th>\n",
              "      <th></th>\n",
              "      <th></th>\n",
              "    </tr>\n",
              "  </thead>\n",
              "  <tbody>\n",
              "    <tr>\n",
              "      <th>0</th>\n",
              "      <td>341.799091</td>\n",
              "      <td>341.799091</td>\n",
              "      <td>0.000000</td>\n",
              "      <td>[1.0]</td>\n",
              "      <td>4</td>\n",
              "      <td>1.5</td>\n",
              "      <td>3.00</td>\n",
              "      <td>0.00</td>\n",
              "    </tr>\n",
              "    <tr>\n",
              "      <th>1</th>\n",
              "      <td>348.523811</td>\n",
              "      <td>341.799091</td>\n",
              "      <td>6.724720</td>\n",
              "      <td>[0.32376464260048776]</td>\n",
              "      <td>3</td>\n",
              "      <td>1.0</td>\n",
              "      <td>1.50</td>\n",
              "      <td>-1.50</td>\n",
              "    </tr>\n",
              "    <tr>\n",
              "      <th>2</th>\n",
              "      <td>342.053551</td>\n",
              "      <td>341.799091</td>\n",
              "      <td>0.254460</td>\n",
              "      <td>[0.9698357550619024]</td>\n",
              "      <td>3</td>\n",
              "      <td>1.5</td>\n",
              "      <td>2.25</td>\n",
              "      <td>-0.75</td>\n",
              "    </tr>\n",
              "    <tr>\n",
              "      <th>3</th>\n",
              "      <td>340.672639</td>\n",
              "      <td>341.799091</td>\n",
              "      <td>-1.126452</td>\n",
              "      <td>[0.8658637665324558]</td>\n",
              "      <td>3</td>\n",
              "      <td>2.0</td>\n",
              "      <td>3.00</td>\n",
              "      <td>0.00</td>\n",
              "    </tr>\n",
              "    <tr>\n",
              "      <th>4</th>\n",
              "      <td>344.024561</td>\n",
              "      <td>341.799091</td>\n",
              "      <td>2.225470</td>\n",
              "      <td>[0.7415153833925093]</td>\n",
              "      <td>4</td>\n",
              "      <td>1.0</td>\n",
              "      <td>2.00</td>\n",
              "      <td>-1.00</td>\n",
              "    </tr>\n",
              "    <tr>\n",
              "      <th>5</th>\n",
              "      <td>339.837776</td>\n",
              "      <td>341.799091</td>\n",
              "      <td>-1.961315</td>\n",
              "      <td>[0.7705311656007489]</td>\n",
              "      <td>4</td>\n",
              "      <td>1.5</td>\n",
              "      <td>3.00</td>\n",
              "      <td>0.00</td>\n",
              "    </tr>\n",
              "    <tr>\n",
              "      <th>6</th>\n",
              "      <td>331.929478</td>\n",
              "      <td>341.799091</td>\n",
              "      <td>-9.869613</td>\n",
              "      <td>[0.1423344122313477]</td>\n",
              "      <td>4</td>\n",
              "      <td>2.0</td>\n",
              "      <td>4.00</td>\n",
              "      <td>1.00</td>\n",
              "    </tr>\n",
              "    <tr>\n",
              "      <th>7</th>\n",
              "      <td>337.351859</td>\n",
              "      <td>341.799091</td>\n",
              "      <td>-4.447233</td>\n",
              "      <td>[0.5085685287909367]</td>\n",
              "      <td>6</td>\n",
              "      <td>1.0</td>\n",
              "      <td>3.00</td>\n",
              "      <td>0.00</td>\n",
              "    </tr>\n",
              "    <tr>\n",
              "      <th>8</th>\n",
              "      <td>317.296197</td>\n",
              "      <td>341.799091</td>\n",
              "      <td>-24.502895</td>\n",
              "      <td>[0.0002457688386733064]</td>\n",
              "      <td>9</td>\n",
              "      <td>1.5</td>\n",
              "      <td>6.75</td>\n",
              "      <td>3.75</td>\n",
              "    </tr>\n",
              "    <tr>\n",
              "      <th>9</th>\n",
              "      <td>319.490079</td>\n",
              "      <td>341.799091</td>\n",
              "      <td>-22.309013</td>\n",
              "      <td>[0.0007767546924849122]</td>\n",
              "      <td>6</td>\n",
              "      <td>2.0</td>\n",
              "      <td>6.00</td>\n",
              "      <td>3.00</td>\n",
              "    </tr>\n",
              "  </tbody>\n",
              "</table>\n",
              "</div>"
            ],
            "text/plain": [
              "        play_min      cell_0      Y_ATE  ... ads_per  treated_ad_min  min_in_diff\n",
              "cell                                     ...                                     \n",
              "0     341.799091  341.799091   0.000000  ...     1.5            3.00         0.00\n",
              "1     348.523811  341.799091   6.724720  ...     1.0            1.50        -1.50\n",
              "2     342.053551  341.799091   0.254460  ...     1.5            2.25        -0.75\n",
              "3     340.672639  341.799091  -1.126452  ...     2.0            3.00         0.00\n",
              "4     344.024561  341.799091   2.225470  ...     1.0            2.00        -1.00\n",
              "5     339.837776  341.799091  -1.961315  ...     1.5            3.00         0.00\n",
              "6     331.929478  341.799091  -9.869613  ...     2.0            4.00         1.00\n",
              "7     337.351859  341.799091  -4.447233  ...     1.0            3.00         0.00\n",
              "8     317.296197  341.799091 -24.502895  ...     1.5            6.75         3.75\n",
              "9     319.490079  341.799091 -22.309013  ...     2.0            6.00         3.00\n",
              "\n",
              "[10 rows x 8 columns]"
            ]
          },
          "metadata": {
            "tags": []
          },
          "execution_count": 16
        }
      ]
    },
    {
      "cell_type": "markdown",
      "metadata": {
        "id": "vFNp7VpMjTfS"
      },
      "source": [
        "Only cell 8 and 9 were statistically significantly different from 0."
      ]
    },
    {
      "cell_type": "markdown",
      "metadata": {
        "id": "7gtkIQ1jA2m8"
      },
      "source": [
        "In df_end, I want to create new column with the expected ad load per hour named “treated_ad_min”, where you combine “ads_per” and “interruptions” to the total intended minutes of ads per hour. Assume each ad is 0.5 minutes (30 seconds) \n"
      ]
    },
    {
      "cell_type": "code",
      "metadata": {
        "id": "58fBGImBj_I-"
      },
      "source": [
        "df_end[\"treated_ad_min\"] = df_end.ads_per*df_end.interruptions*0.5"
      ],
      "execution_count": null,
      "outputs": []
    },
    {
      "cell_type": "code",
      "metadata": {
        "colab": {
          "base_uri": "https://localhost:8080/"
        },
        "id": "cdn8ccT5mLsJ",
        "outputId": "d04859ae-b83a-4169-fa94-b98e62dab7c7"
      },
      "source": [
        "mod = smf.ols(formula='play_min ~ treated_ad_min', data=df_end)\n",
        "res = mod.fit()\n",
        "print(res.summary())"
      ],
      "execution_count": null,
      "outputs": [
        {
          "output_type": "stream",
          "text": [
            "                            OLS Regression Results                            \n",
            "==============================================================================\n",
            "Dep. Variable:               play_min   R-squared:                       0.001\n",
            "Model:                            OLS   Adj. R-squared:                  0.001\n",
            "Method:                 Least Squares   F-statistic:                     26.15\n",
            "Date:                Sat, 26 Jun 2021   Prob (F-statistic):           3.17e-07\n",
            "Time:                        23:41:08   Log-Likelihood:            -3.4625e+05\n",
            "No. Observations:               48000   AIC:                         6.925e+05\n",
            "Df Residuals:                   47998   BIC:                         6.925e+05\n",
            "Df Model:                           1                                         \n",
            "Covariance Type:            nonrobust                                         \n",
            "==================================================================================\n",
            "                     coef    std err          t      P>|t|      [0.025      0.975]\n",
            "----------------------------------------------------------------------------------\n",
            "Intercept        359.1091      4.265     84.191      0.000     350.749     367.469\n",
            "treated_ad_min    -6.2668      1.226     -5.114      0.000      -8.669      -3.865\n",
            "==============================================================================\n",
            "Omnibus:                     4290.180   Durbin-Watson:                   2.005\n",
            "Prob(Omnibus):                  0.000   Jarque-Bera (JB):             5565.367\n",
            "Skew:                           0.834   Prob(JB):                         0.00\n",
            "Kurtosis:                       3.052   Cond. No.                         10.6\n",
            "==============================================================================\n",
            "\n",
            "Warnings:\n",
            "[1] Standard Errors assume that the covariance matrix of the errors is correctly specified.\n"
          ],
          "name": "stdout"
        }
      ]
    },
    {
      "cell_type": "markdown",
      "metadata": {
        "id": "431xWnaYm3y1"
      },
      "source": [
        "Yes it is statistically significant at 95% confidence; and which means we expect that adding every 1 min in interruption of ad, users will decrease their playing time by 6.27 mins."
      ]
    },
    {
      "cell_type": "code",
      "metadata": {
        "colab": {
          "base_uri": "https://localhost:8080/",
          "height": 282
        },
        "id": "R6YCkM3SqKyx",
        "outputId": "ced896ce-8d7b-4864-d0fe-e218af2b12a0"
      },
      "source": [
        "plt.plot(df_cell.min_in_diff, df_cell.Y_ATE, 'ro')"
      ],
      "execution_count": null,
      "outputs": [
        {
          "output_type": "execute_result",
          "data": {
            "text/plain": [
              "[<matplotlib.lines.Line2D at 0x7f992d87b450>]"
            ]
          },
          "metadata": {
            "tags": []
          },
          "execution_count": 19
        },
        {
          "output_type": "display_data",
          "data": {
            "image/png": "[encoded data removed]",
            "text/plain": [
              "<Figure size 432x288 with 1 Axes>"
            ]
          },
          "metadata": {
            "tags": [],
            "needs_background": "light"
          }
        }
      ]
    },
    {
      "cell_type": "markdown",
      "metadata": {
        "id": "uBqKqR9IsVXy"
      },
      "source": [
        "Yes the coefficient of treated_ad_min is consistent with result in 1b (see graph above); and both of them showing of a negative slope between treated_ad_min and play_min."
      ]
    },
    {
      "cell_type": "markdown",
      "metadata": {
        "id": "6tqFxlCIA2m8"
      },
      "source": [
        "Now we want to look at how the treatment effect changes over time. For this problem, we will need to use the entire dataset we read in the beginning. Re-create the “treated_ad_min” column that we did before in this data frame.\n"
      ]
    },
    {
      "cell_type": "code",
      "metadata": {
        "id": "DZhGENciuNxY"
      },
      "source": [
        "df[\"treated_ad_min\"] = df.ads_per*df.interruptions*0.5"
      ],
      "execution_count": null,
      "outputs": []
    },
    {
      "cell_type": "markdown",
      "metadata": {
        "id": "UroxOYT7A2m8"
      },
      "source": [
        "The code below is designed to help us create a pandas dataframe that has each week as a row, and the estimated coefficient on treated_ad_min. "
      ]
    },
    {
      "cell_type": "code",
      "metadata": {
        "colab": {
          "base_uri": "https://localhost:8080/",
          "height": 419
        },
        "id": "pL6T5W1FA2m8",
        "outputId": "8e964865-5528-47ce-f80a-439590ac019d"
      },
      "source": [
        "weeks =  df.week.nunique()\n",
        "\n",
        "out = {\"week\":[],\n",
        "       \"coef\":[]\n",
        "      }\n",
        "\n",
        "for i in range(weeks):\n",
        "    df_small = df.loc[df[\"week\"]==i,[\"play_min\", \"treated_ad_min\"]] \n",
        "    mod = smf.ols(formula='play_min ~ treated_ad_min', data=df_small) \n",
        "    res = mod.fit()\n",
        "    out[\"week\"].append(i)\n",
        "    out[\"coef\"].append(res.params[1])\n",
        "\n",
        "df_weekly_coef = pd.DataFrame(out)\n",
        "df_weekly_coef"
      ],
      "execution_count": null,
      "outputs": [
        {
          "output_type": "execute_result",
          "data": {
            "text/html": [
              "<div>\n",
              "<style scoped>\n",
              "    .dataframe tbody tr th:only-of-type {\n",
              "        vertical-align: middle;\n",
              "    }\n",
              "\n",
              "    .dataframe tbody tr th {\n",
              "        vertical-align: top;\n",
              "    }\n",
              "\n",
              "    .dataframe thead th {\n",
              "        text-align: right;\n",
              "    }\n",
              "</style>\n",
              "<table border=\"1\" class=\"dataframe\">\n",
              "  <thead>\n",
              "    <tr style=\"text-align: right;\">\n",
              "      <th></th>\n",
              "      <th>week</th>\n",
              "      <th>coef</th>\n",
              "    </tr>\n",
              "  </thead>\n",
              "  <tbody>\n",
              "    <tr>\n",
              "      <th>0</th>\n",
              "      <td>0</td>\n",
              "      <td>-0.651095</td>\n",
              "    </tr>\n",
              "    <tr>\n",
              "      <th>1</th>\n",
              "      <td>1</td>\n",
              "      <td>-0.331240</td>\n",
              "    </tr>\n",
              "    <tr>\n",
              "      <th>2</th>\n",
              "      <td>2</td>\n",
              "      <td>-0.443183</td>\n",
              "    </tr>\n",
              "    <tr>\n",
              "      <th>3</th>\n",
              "      <td>3</td>\n",
              "      <td>-0.244138</td>\n",
              "    </tr>\n",
              "    <tr>\n",
              "      <th>4</th>\n",
              "      <td>4</td>\n",
              "      <td>-1.176131</td>\n",
              "    </tr>\n",
              "    <tr>\n",
              "      <th>...</th>\n",
              "      <td>...</td>\n",
              "      <td>...</td>\n",
              "    </tr>\n",
              "    <tr>\n",
              "      <th>107</th>\n",
              "      <td>107</td>\n",
              "      <td>-5.721362</td>\n",
              "    </tr>\n",
              "    <tr>\n",
              "      <th>108</th>\n",
              "      <td>108</td>\n",
              "      <td>-6.223527</td>\n",
              "    </tr>\n",
              "    <tr>\n",
              "      <th>109</th>\n",
              "      <td>109</td>\n",
              "      <td>-7.523733</td>\n",
              "    </tr>\n",
              "    <tr>\n",
              "      <th>110</th>\n",
              "      <td>110</td>\n",
              "      <td>-5.690970</td>\n",
              "    </tr>\n",
              "    <tr>\n",
              "      <th>111</th>\n",
              "      <td>111</td>\n",
              "      <td>-6.266793</td>\n",
              "    </tr>\n",
              "  </tbody>\n",
              "</table>\n",
              "<p>112 rows × 2 columns</p>\n",
              "</div>"
            ],
            "text/plain": [
              "     week      coef\n",
              "0       0 -0.651095\n",
              "1       1 -0.331240\n",
              "2       2 -0.443183\n",
              "3       3 -0.244138\n",
              "4       4 -1.176131\n",
              "..    ...       ...\n",
              "107   107 -5.721362\n",
              "108   108 -6.223527\n",
              "109   109 -7.523733\n",
              "110   110 -5.690970\n",
              "111   111 -6.266793\n",
              "\n",
              "[112 rows x 2 columns]"
            ]
          },
          "metadata": {
            "tags": []
          },
          "execution_count": 21
        }
      ]
    },
    {
      "cell_type": "markdown",
      "metadata": {
        "id": "t4xY50hwA2m9"
      },
      "source": [
        "I provide a loop to plot the t-statistics of the treatment effect. Now we should have a dataframe named *df_ts* (short for dataframe t stats). I Plot the t-stat (y-axis) by week (x-axis).\n"
      ]
    },
    {
      "cell_type": "code",
      "metadata": {
        "colab": {
          "base_uri": "https://localhost:8080/",
          "height": 419
        },
        "id": "CxSB5RerA2m9",
        "outputId": "666caf84-3a2c-41dd-b08c-912901904f31"
      },
      "source": [
        "weeks =  df.week.nunique()\n",
        "\n",
        "out = {\"week\":[],\n",
        "       \"t_stat\":[]\n",
        "      }\n",
        "\n",
        "for i in range(weeks):\n",
        "    df_small = df.loc[df[\"week\"]==i,[\"play_min\", \"treated_ad_min\"]] \n",
        "    mod = smf.ols(formula='play_min ~ treated_ad_min', data=df_small) \n",
        "    res = mod.fit()\n",
        "    out[\"week\"].append(i)\n",
        "    out[\"t_stat\"].append(res.tvalues[1])\n",
        "\n",
        "df_weekly_tstat = pd.DataFrame(out)\n",
        "df_weekly_tstat"
      ],
      "execution_count": null,
      "outputs": [
        {
          "output_type": "execute_result",
          "data": {
            "text/html": [
              "<div>\n",
              "<style scoped>\n",
              "    .dataframe tbody tr th:only-of-type {\n",
              "        vertical-align: middle;\n",
              "    }\n",
              "\n",
              "    .dataframe tbody tr th {\n",
              "        vertical-align: top;\n",
              "    }\n",
              "\n",
              "    .dataframe thead th {\n",
              "        text-align: right;\n",
              "    }\n",
              "</style>\n",
              "<table border=\"1\" class=\"dataframe\">\n",
              "  <thead>\n",
              "    <tr style=\"text-align: right;\">\n",
              "      <th></th>\n",
              "      <th>week</th>\n",
              "      <th>t_stat</th>\n",
              "    </tr>\n",
              "  </thead>\n",
              "  <tbody>\n",
              "    <tr>\n",
              "      <th>0</th>\n",
              "      <td>0</td>\n",
              "      <td>-0.519725</td>\n",
              "    </tr>\n",
              "    <tr>\n",
              "      <th>1</th>\n",
              "      <td>1</td>\n",
              "      <td>-0.348340</td>\n",
              "    </tr>\n",
              "    <tr>\n",
              "      <th>2</th>\n",
              "      <td>2</td>\n",
              "      <td>-0.331432</td>\n",
              "    </tr>\n",
              "    <tr>\n",
              "      <th>3</th>\n",
              "      <td>3</td>\n",
              "      <td>-0.157944</td>\n",
              "    </tr>\n",
              "    <tr>\n",
              "      <th>4</th>\n",
              "      <td>4</td>\n",
              "      <td>-1.157872</td>\n",
              "    </tr>\n",
              "    <tr>\n",
              "      <th>...</th>\n",
              "      <td>...</td>\n",
              "      <td>...</td>\n",
              "    </tr>\n",
              "    <tr>\n",
              "      <th>107</th>\n",
              "      <td>107</td>\n",
              "      <td>-5.673212</td>\n",
              "    </tr>\n",
              "    <tr>\n",
              "      <th>108</th>\n",
              "      <td>108</td>\n",
              "      <td>-4.955175</td>\n",
              "    </tr>\n",
              "    <tr>\n",
              "      <th>109</th>\n",
              "      <td>109</td>\n",
              "      <td>-5.382871</td>\n",
              "    </tr>\n",
              "    <tr>\n",
              "      <th>110</th>\n",
              "      <td>110</td>\n",
              "      <td>-5.036432</td>\n",
              "    </tr>\n",
              "    <tr>\n",
              "      <th>111</th>\n",
              "      <td>111</td>\n",
              "      <td>-5.113522</td>\n",
              "    </tr>\n",
              "  </tbody>\n",
              "</table>\n",
              "<p>112 rows × 2 columns</p>\n",
              "</div>"
            ],
            "text/plain": [
              "     week    t_stat\n",
              "0       0 -0.519725\n",
              "1       1 -0.348340\n",
              "2       2 -0.331432\n",
              "3       3 -0.157944\n",
              "4       4 -1.157872\n",
              "..    ...       ...\n",
              "107   107 -5.673212\n",
              "108   108 -4.955175\n",
              "109   109 -5.382871\n",
              "110   110 -5.036432\n",
              "111   111 -5.113522\n",
              "\n",
              "[112 rows x 2 columns]"
            ]
          },
          "metadata": {
            "tags": []
          },
          "execution_count": 22
        }
      ]
    },
    {
      "cell_type": "code",
      "metadata": {
        "colab": {
          "base_uri": "https://localhost:8080/",
          "height": 282
        },
        "id": "WC2MeZbwA2m9",
        "outputId": "c37d6b32-8072-4c1b-d823-395b5d0ca62e"
      },
      "source": [
        "plt.plot(df_weekly_tstat.week, df_weekly_tstat.t_stat, 'ro')"
      ],
      "execution_count": null,
      "outputs": [
        {
          "output_type": "execute_result",
          "data": {
            "text/plain": [
              "[<matplotlib.lines.Line2D at 0x7f992d38a5d0>]"
            ]
          },
          "metadata": {
            "tags": []
          },
          "execution_count": 23
        },
        {
          "output_type": "display_data",
          "data": {
            "image/png": "[encoded data removed]",
            "text/plain": [
              "<Figure size 432x288 with 1 Axes>"
            ]
          },
          "metadata": {
            "tags": [],
            "needs_background": "light"
          }
        }
      ]
    },
    {
      "cell_type": "markdown",
      "metadata": {
        "id": "7c2_dHVWA2m-"
      },
      "source": [
        "We will focus on results at the end of the experiment."
      ]
    },
    {
      "cell_type": "markdown",
      "metadata": {
        "id": "23rC0VAkA2m-"
      },
      "source": [
        "There are a lot of reasons why the enforced changes in ad load did not exactly match the adload that users received. "
      ]
    },
    {
      "cell_type": "code",
      "metadata": {
        "colab": {
          "base_uri": "https://localhost:8080/",
          "height": 280
        },
        "id": "Bloj84iF7AiA",
        "outputId": "b3b4b924-d0cc-48fc-a1e3-c054182b91c3"
      },
      "source": [
        "plt.scatter(df_end.treated_ad_min, df_end.ad_min_actual, alpha=0.5)\n",
        "sns.boxplot(x=\"treated_ad_min\", y=\"ad_min_actual\", data=df_end, showfliers = False)\n",
        "plt.show()"
      ],
      "execution_count": null,
      "outputs": [
        {
          "output_type": "display_data",
          "data": {
            "image/png": "[encoded data removed]",
            "text/plain": [
              "<Figure size 432x288 with 1 Axes>"
            ]
          },
          "metadata": {
            "tags": [],
            "needs_background": "light"
          }
        }
      ]
    },
    {
      "cell_type": "markdown",
      "metadata": {
        "id": "4L5KWPiN_ca-"
      },
      "source": [
        "Although there are large ranges (0->5) of ad_min_actual for users for every unique treated_ad_min; we still can see that the max and mean is getting biger as treated_ad_min getting larger."
      ]
    },
    {
      "cell_type": "code",
      "metadata": {
        "colab": {
          "base_uri": "https://localhost:8080/",
          "height": 265
        },
        "id": "Fa0DkOoTASfn",
        "outputId": "9a91d2a0-44ba-49a2-aa3a-d319f8a3ff3e"
      },
      "source": [
        "plt.scatter(df_end.groupby(\"treated_ad_min\").treated_ad_min.mean(), df_end.groupby(\"treated_ad_min\").ad_min_actual.mean(), \n",
        "            s = df_end.groupby(\"treated_ad_min\").user_id.count()/100)\n",
        "plt.show()"
      ],
      "execution_count": null,
      "outputs": [
        {
          "output_type": "display_data",
          "data": {
            "image/png": "[encoded data removed]",
            "text/plain": [
              "<Figure size 432x288 with 1 Axes>"
            ]
          },
          "metadata": {
            "tags": [],
            "needs_background": "light"
          }
        }
      ]
    },
    {
      "cell_type": "code",
      "metadata": {
        "colab": {
          "base_uri": "https://localhost:8080/",
          "height": 297
        },
        "id": "C8wSJ5G8FOrm",
        "outputId": "0d38d218-11b7-425c-bb6e-852cce15d140"
      },
      "source": [
        "dose = {1.50:\"a\", 2.00:\"b\", 2.25:\"c\", 3.00:\"d\", 4.00:\"e\", 6.00:\"f\", 6.75:\"g\"}\n",
        "df_end['dose'] = df_end.treated_ad_min.map(dose)\n",
        "df_end_table = pd.DataFrame(df_end.groupby(\"dose\").treated_ad_min.mean())\n",
        "df_end_table[\"ad_min_actual\"] = df_end.groupby(\"dose\").ad_min_actual.mean()\n",
        "df_end_table"
      ],
      "execution_count": null,
      "outputs": [
        {
          "output_type": "execute_result",
          "data": {
            "text/html": [
              "<div>\n",
              "<style scoped>\n",
              "    .dataframe tbody tr th:only-of-type {\n",
              "        vertical-align: middle;\n",
              "    }\n",
              "\n",
              "    .dataframe tbody tr th {\n",
              "        vertical-align: top;\n",
              "    }\n",
              "\n",
              "    .dataframe thead th {\n",
              "        text-align: right;\n",
              "    }\n",
              "</style>\n",
              "<table border=\"1\" class=\"dataframe\">\n",
              "  <thead>\n",
              "    <tr style=\"text-align: right;\">\n",
              "      <th></th>\n",
              "      <th>treated_ad_min</th>\n",
              "      <th>ad_min_actual</th>\n",
              "    </tr>\n",
              "    <tr>\n",
              "      <th>dose</th>\n",
              "      <th></th>\n",
              "      <th></th>\n",
              "    </tr>\n",
              "  </thead>\n",
              "  <tbody>\n",
              "    <tr>\n",
              "      <th>a</th>\n",
              "      <td>1.50</td>\n",
              "      <td>1.360815</td>\n",
              "    </tr>\n",
              "    <tr>\n",
              "      <th>b</th>\n",
              "      <td>2.00</td>\n",
              "      <td>1.737821</td>\n",
              "    </tr>\n",
              "    <tr>\n",
              "      <th>c</th>\n",
              "      <td>2.25</td>\n",
              "      <td>1.876501</td>\n",
              "    </tr>\n",
              "    <tr>\n",
              "      <th>d</th>\n",
              "      <td>3.00</td>\n",
              "      <td>2.487349</td>\n",
              "    </tr>\n",
              "    <tr>\n",
              "      <th>e</th>\n",
              "      <td>4.00</td>\n",
              "      <td>3.361121</td>\n",
              "    </tr>\n",
              "    <tr>\n",
              "      <th>f</th>\n",
              "      <td>6.00</td>\n",
              "      <td>4.963919</td>\n",
              "    </tr>\n",
              "    <tr>\n",
              "      <th>g</th>\n",
              "      <td>6.75</td>\n",
              "      <td>5.611792</td>\n",
              "    </tr>\n",
              "  </tbody>\n",
              "</table>\n",
              "</div>"
            ],
            "text/plain": [
              "      treated_ad_min  ad_min_actual\n",
              "dose                               \n",
              "a               1.50       1.360815\n",
              "b               2.00       1.737821\n",
              "c               2.25       1.876501\n",
              "d               3.00       2.487349\n",
              "e               4.00       3.361121\n",
              "f               6.00       4.963919\n",
              "g               6.75       5.611792"
            ]
          },
          "metadata": {
            "tags": []
          },
          "execution_count": 26
        }
      ]
    },
    {
      "cell_type": "markdown",
      "metadata": {
        "id": "8fpMYFClA2m-"
      },
      "source": [
        "I run a regression where “ad_min_actual” is the outcome and  “treated_ad_min” is the independent variable. \n",
        "Then, I run a regression where “play_min” is the outcome and “treated_ad_min\" is the independent variable.\n"
      ]
    },
    {
      "cell_type": "code",
      "metadata": {
        "colab": {
          "base_uri": "https://localhost:8080/"
        },
        "id": "t14c9s6dHl3X",
        "outputId": "c9988b12-e7bb-40be-cb5b-b931a6282776"
      },
      "source": [
        "mod = smf.ols(formula='ad_min_actual ~ treated_ad_min', data=df_end)\n",
        "res = mod.fit()\n",
        "print(res.summary())"
      ],
      "execution_count": null,
      "outputs": [
        {
          "output_type": "stream",
          "text": [
            "                            OLS Regression Results                            \n",
            "==============================================================================\n",
            "Dep. Variable:          ad_min_actual   R-squared:                       0.318\n",
            "Model:                            OLS   Adj. R-squared:                  0.318\n",
            "Method:                 Least Squares   F-statistic:                 2.234e+04\n",
            "Date:                Sat, 26 Jun 2021   Prob (F-statistic):               0.00\n",
            "Time:                        23:42:39   Log-Likelihood:                -86602.\n",
            "No. Observations:               48000   AIC:                         1.732e+05\n",
            "Df Residuals:                   47998   BIC:                         1.732e+05\n",
            "Df Model:                           1                                         \n",
            "Covariance Type:            nonrobust                                         \n",
            "==================================================================================\n",
            "                     coef    std err          t      P>|t|      [0.025      0.975]\n",
            "----------------------------------------------------------------------------------\n",
            "Intercept          0.0449      0.019      2.352      0.019       0.007       0.082\n",
            "treated_ad_min     0.8197      0.005    149.458      0.000       0.809       0.830\n",
            "==============================================================================\n",
            "Omnibus:                      697.566   Durbin-Watson:                   2.003\n",
            "Prob(Omnibus):                  0.000   Jarque-Bera (JB):              640.727\n",
            "Skew:                           0.241   Prob(JB):                    7.38e-140\n",
            "Kurtosis:                       2.702   Cond. No.                         10.6\n",
            "==============================================================================\n",
            "\n",
            "Warnings:\n",
            "[1] Standard Errors assume that the covariance matrix of the errors is correctly specified.\n"
          ],
          "name": "stdout"
        }
      ]
    },
    {
      "cell_type": "markdown",
      "metadata": {
        "id": "5HxuVlWhH9cH"
      },
      "source": [
        "This means when treated_ad_min goes up 1 min, we expect ad_min_actual goes up 0.82 min. The r-squared is just 0.318, 32% of the variance in the ad_min_actual can be explained by the treated_ad_min, which is a little weak."
      ]
    },
    {
      "cell_type": "code",
      "metadata": {
        "colab": {
          "base_uri": "https://localhost:8080/"
        },
        "id": "hHlya7k8JobE",
        "outputId": "f78096e3-66bb-4839-a0e0-eabe8902c01f"
      },
      "source": [
        "mod = smf.ols(formula='play_min ~ treated_ad_min', data=df_end)\n",
        "res = mod.fit()\n",
        "print(res.summary())"
      ],
      "execution_count": null,
      "outputs": [
        {
          "output_type": "stream",
          "text": [
            "                            OLS Regression Results                            \n",
            "==============================================================================\n",
            "Dep. Variable:               play_min   R-squared:                       0.001\n",
            "Model:                            OLS   Adj. R-squared:                  0.001\n",
            "Method:                 Least Squares   F-statistic:                     26.15\n",
            "Date:                Sat, 26 Jun 2021   Prob (F-statistic):           3.17e-07\n",
            "Time:                        23:42:45   Log-Likelihood:            -3.4625e+05\n",
            "No. Observations:               48000   AIC:                         6.925e+05\n",
            "Df Residuals:                   47998   BIC:                         6.925e+05\n",
            "Df Model:                           1                                         \n",
            "Covariance Type:            nonrobust                                         \n",
            "==================================================================================\n",
            "                     coef    std err          t      P>|t|      [0.025      0.975]\n",
            "----------------------------------------------------------------------------------\n",
            "Intercept        359.1091      4.265     84.191      0.000     350.749     367.469\n",
            "treated_ad_min    -6.2668      1.226     -5.114      0.000      -8.669      -3.865\n",
            "==============================================================================\n",
            "Omnibus:                     4290.180   Durbin-Watson:                   2.005\n",
            "Prob(Omnibus):                  0.000   Jarque-Bera (JB):             5565.367\n",
            "Skew:                           0.834   Prob(JB):                         0.00\n",
            "Kurtosis:                       3.052   Cond. No.                         10.6\n",
            "==============================================================================\n",
            "\n",
            "Warnings:\n",
            "[1] Standard Errors assume that the covariance matrix of the errors is correctly specified.\n"
          ],
          "name": "stdout"
        }
      ]
    },
    {
      "cell_type": "code",
      "metadata": {
        "colab": {
          "base_uri": "https://localhost:8080/"
        },
        "id": "W-sW-lxVK73d",
        "outputId": "32b3809e-a29b-4c22-f990-1f4e1b10802b"
      },
      "source": [
        "B_rf = -6.2668\n",
        "B_1s = 0.8197\n",
        "B_ToT = B_rf/B_1s\n",
        "B_ToT"
      ],
      "execution_count": null,
      "outputs": [
        {
          "output_type": "execute_result",
          "data": {
            "text/plain": [
              "-7.645236061973893"
            ]
          },
          "metadata": {
            "tags": []
          },
          "execution_count": 32
        }
      ]
    },
    {
      "cell_type": "markdown",
      "metadata": {
        "id": "wrnWWhsNL-n9"
      },
      "source": [
        "The Estimating Treatment Effect on Treated should be -7.6452; meaning if ad_min_actual goes up 1 min, we expect play_min goes down 7.645 mins."
      ]
    },
    {
      "cell_type": "code",
      "metadata": {
        "colab": {
          "base_uri": "https://localhost:8080/"
        },
        "id": "6eivuZNLM7wW",
        "outputId": "9c4a5ed3-32d4-4ab1-e0bf-26e09c8a3f7d"
      },
      "source": [
        "df_end['constant'] = 1\n",
        "mod =IV2SLS(df_end.play_min, df_end[['constant', 'ad_min_actual']], df_end[['constant', 'treated_ad_min']])\n",
        "res = mod.fit()\n",
        "print(res.summary())"
      ],
      "execution_count": null,
      "outputs": [
        {
          "output_type": "stream",
          "text": [
            "                          IV2SLS Regression Results                           \n",
            "==============================================================================\n",
            "Dep. Variable:               play_min   R-squared:                       0.011\n",
            "Model:                         IV2SLS   Adj. R-squared:                  0.011\n",
            "Method:                     Two Stage   F-statistic:                     26.42\n",
            "                        Least Squares   Prob (F-statistic):           2.76e-07\n",
            "Date:                Sat, 26 Jun 2021                                         \n",
            "Time:                        23:46:16                                         \n",
            "No. Observations:               48000                                         \n",
            "Df Residuals:                   47998                                         \n",
            "Df Model:                           1                                         \n",
            "=================================================================================\n",
            "                    coef    std err          t      P>|t|      [0.025      0.975]\n",
            "---------------------------------------------------------------------------------\n",
            "constant        359.4523      4.306     83.470      0.000     351.012     367.893\n",
            "ad_min_actual    -7.6456      1.488     -5.140      0.000     -10.561      -4.730\n",
            "==============================================================================\n",
            "Omnibus:                     4287.311   Durbin-Watson:                   2.005\n",
            "Prob(Omnibus):                  0.000   Jarque-Bera (JB):             5560.480\n",
            "Skew:                           0.833   Prob(JB):                         0.00\n",
            "Kurtosis:                       3.054   Cond. No.                         6.33\n",
            "==============================================================================\n"
          ],
          "name": "stdout"
        }
      ]
    },
    {
      "cell_type": "markdown",
      "metadata": {
        "id": "Wjheu083OgQ3"
      },
      "source": [
        "The model says when ad_min_actual goes up 1 min, we should expect play_min goes down 7.6456 mins; which is the same as the result in 3b."
      ]
    },
    {
      "cell_type": "markdown",
      "metadata": {
        "id": "V3dqNHWkA2m-"
      },
      "source": [
        "Now we are going to look at heterogeneity by different subgroups. Notice that there are 3 variables which describe user attributes: sex, age, and city. We will focus on age for this.\n"
      ]
    },
    {
      "cell_type": "markdown",
      "metadata": {
        "id": "VYxTgyP7A2m-"
      },
      "source": [
        "I run a regression where *play_min* is our dependent variable and *treat_ad_min* is our independent variable. Interact *treated_ad_min* with age."
      ]
    },
    {
      "cell_type": "code",
      "metadata": {
        "colab": {
          "base_uri": "https://localhost:8080/"
        },
        "id": "OG4U6nmfQXRN",
        "outputId": "3335e77b-b065-4796-dd03-7a0b2cb015c1"
      },
      "source": [
        "dose = {\"13-17\":0, \"18-24\":1, \"25-54\":2, \"55+\":3}\n",
        "df_end[\"age_dose\"] = df_end.age.map(dose)\n",
        "mod = smf.ols(formula='play_min ~ treated_ad_min*age_dose', data=df_end)\n",
        "res = mod.fit()\n",
        "print(res.summary())"
      ],
      "execution_count": null,
      "outputs": [
        {
          "output_type": "stream",
          "text": [
            "                            OLS Regression Results                            \n",
            "==============================================================================\n",
            "Dep. Variable:               play_min   R-squared:                       0.001\n",
            "Model:                            OLS   Adj. R-squared:                  0.001\n",
            "Method:                 Least Squares   F-statistic:                     11.00\n",
            "Date:                Sat, 26 Jun 2021   Prob (F-statistic):           3.25e-07\n",
            "Time:                        23:46:33   Log-Likelihood:            -3.4624e+05\n",
            "No. Observations:               48000   AIC:                         6.925e+05\n",
            "Df Residuals:                   47996   BIC:                         6.925e+05\n",
            "Df Model:                           3                                         \n",
            "Covariance Type:            nonrobust                                         \n",
            "===========================================================================================\n",
            "                              coef    std err          t      P>|t|      [0.025      0.975]\n",
            "-------------------------------------------------------------------------------------------\n",
            "Intercept                 350.0383      7.594     46.097      0.000     335.155     364.922\n",
            "treated_ad_min             -5.2327      2.172     -2.409      0.016      -9.491      -0.975\n",
            "age_dose                    6.2035      4.350      1.426      0.154      -2.322      14.729\n",
            "treated_ad_min:age_dose    -0.6991      1.249     -0.560      0.576      -3.147       1.748\n",
            "==============================================================================\n",
            "Omnibus:                     4271.424   Durbin-Watson:                   2.005\n",
            "Prob(Omnibus):                  0.000   Jarque-Bera (JB):             5535.325\n",
            "Skew:                           0.831   Prob(JB):                         0.00\n",
            "Kurtosis:                       3.047   Cond. No.                         41.0\n",
            "==============================================================================\n",
            "\n",
            "Warnings:\n",
            "[1] Standard Errors assume that the covariance matrix of the errors is correctly specified.\n"
          ],
          "name": "stdout"
        }
      ]
    },
    {
      "cell_type": "code",
      "metadata": {
        "colab": {
          "base_uri": "https://localhost:8080/"
        },
        "id": "x1wjdNmeR3ok",
        "outputId": "57fd0c20-7004-45a6-b803-2496c6988977"
      },
      "source": [
        "mod = smf.ols(formula='play_min ~ treated_ad_min*age', data=df_end)\n",
        "res = mod.fit()\n",
        "print(res.summary())"
      ],
      "execution_count": null,
      "outputs": [
        {
          "output_type": "stream",
          "text": [
            "                            OLS Regression Results                            \n",
            "==============================================================================\n",
            "Dep. Variable:               play_min   R-squared:                       0.100\n",
            "Model:                            OLS   Adj. R-squared:                  0.100\n",
            "Method:                 Least Squares   F-statistic:                     763.6\n",
            "Date:                Sat, 26 Jun 2021   Prob (F-statistic):               0.00\n",
            "Time:                        23:46:41   Log-Likelihood:            -3.4373e+05\n",
            "No. Observations:               48000   AIC:                         6.875e+05\n",
            "Df Residuals:                   47992   BIC:                         6.875e+05\n",
            "Df Model:                           7                                         \n",
            "Covariance Type:            nonrobust                                         \n",
            "===============================================================================================\n",
            "                                  coef    std err          t      P>|t|      [0.025      0.975]\n",
            "-----------------------------------------------------------------------------------------------\n",
            "Intercept                     260.5016      8.936     29.152      0.000     242.987     278.016\n",
            "age[T.18-24]                  112.6068     11.616      9.694      0.000      89.840     135.374\n",
            "age[T.25-54]                  221.8550     11.284     19.662      0.000     199.739     243.971\n",
            "age[T.55+]                    -85.2296     13.695     -6.224      0.000    -112.071     -58.388\n",
            "treated_ad_min                 -1.6947      2.552     -0.664      0.507      -6.696       3.307\n",
            "treated_ad_min:age[T.18-24]    -5.4574      3.322     -1.643      0.100     -11.968       1.053\n",
            "treated_ad_min:age[T.25-54]    -7.0980      3.234     -2.194      0.028     -13.438      -0.758\n",
            "treated_ad_min:age[T.55+]      -2.1376      3.934     -0.543      0.587      -9.848       5.573\n",
            "==============================================================================\n",
            "Omnibus:                     3658.518   Durbin-Watson:                   2.004\n",
            "Prob(Omnibus):                  0.000   Jarque-Bera (JB):             4559.808\n",
            "Skew:                           0.752   Prob(JB):                         0.00\n",
            "Kurtosis:                       3.141   Cond. No.                         56.9\n",
            "==============================================================================\n",
            "\n",
            "Warnings:\n",
            "[1] Standard Errors assume that the covariance matrix of the errors is correctly specified.\n"
          ],
          "name": "stdout"
        }
      ]
    },
    {
      "cell_type": "markdown",
      "metadata": {
        "id": "hH3pNS6hZPSE"
      },
      "source": [
        "We don't have the same treatment effect per age group."
      ]
    },
    {
      "cell_type": "markdown",
      "metadata": {
        "id": "yXzDdVbhA2m_"
      },
      "source": [
        "I then run a regression where *ad_min_actual* is our dependent variable and *treat_ad_min* is our independent variable but Interact *treated_ad_min* with *age*. \n"
      ]
    },
    {
      "cell_type": "code",
      "metadata": {
        "colab": {
          "base_uri": "https://localhost:8080/"
        },
        "id": "cCCCBDHeaVBj",
        "outputId": "7d0e1098-5a24-4a70-e0ba-fe56d7c6413f"
      },
      "source": [
        "mod = smf.ols(formula='ad_min_actual ~ treated_ad_min*age', data=df_end)\n",
        "res = mod.fit()\n",
        "print(res.summary())"
      ],
      "execution_count": null,
      "outputs": [
        {
          "output_type": "stream",
          "text": [
            "                            OLS Regression Results                            \n",
            "==============================================================================\n",
            "Dep. Variable:          ad_min_actual   R-squared:                       0.362\n",
            "Model:                            OLS   Adj. R-squared:                  0.362\n",
            "Method:                 Least Squares   F-statistic:                     3884.\n",
            "Date:                Sat, 26 Jun 2021   Prob (F-statistic):               0.00\n",
            "Time:                        23:47:05   Log-Likelihood:                -85000.\n",
            "No. Observations:               48000   AIC:                         1.700e+05\n",
            "Df Residuals:                   47992   BIC:                         1.701e+05\n",
            "Df Model:                           7                                         \n",
            "Covariance Type:            nonrobust                                         \n",
            "===============================================================================================\n",
            "                                  coef    std err          t      P>|t|      [0.025      0.975]\n",
            "-----------------------------------------------------------------------------------------------\n",
            "Intercept                      -0.3988      0.041     -9.785      0.000      -0.479      -0.319\n",
            "age[T.18-24]                    0.6734      0.053     12.710      0.000       0.570       0.777\n",
            "age[T.25-54]                    0.6868      0.051     13.343      0.000       0.586       0.788\n",
            "age[T.55+]                      0.0083      0.062      0.133      0.894      -0.114       0.131\n",
            "treated_ad_min                  0.8042      0.012     69.089      0.000       0.781       0.827\n",
            "treated_ad_min:age[T.18-24]     0.0306      0.015      2.020      0.043       0.001       0.060\n",
            "treated_ad_min:age[T.25-54]     0.0245      0.015      1.658      0.097      -0.004       0.053\n",
            "treated_ad_min:age[T.55+]      -0.0104      0.018     -0.582      0.560      -0.046       0.025\n",
            "==============================================================================\n",
            "Omnibus:                      613.272   Durbin-Watson:                   2.000\n",
            "Prob(Omnibus):                  0.000   Jarque-Bera (JB):              584.151\n",
            "Skew:                           0.238   Prob(JB):                    1.42e-127\n",
            "Kurtosis:                       2.745   Cond. No.                         56.9\n",
            "==============================================================================\n",
            "\n",
            "Warnings:\n",
            "[1] Standard Errors assume that the covariance matrix of the errors is correctly specified.\n"
          ],
          "name": "stdout"
        }
      ]
    },
    {
      "cell_type": "markdown",
      "metadata": {
        "id": "KYkFmSErbwPr"
      },
      "source": [
        "Looks like the 55+ group has a different ad load than others since the coef for age T.55+ is 0.0083 (far from 0.7), and coef for treated_ad_min:age T.55+ is negative."
      ]
    },
    {
      "cell_type": "markdown",
      "metadata": {
        "id": "j0V8qq0aA2m_"
      },
      "source": [
        "I repeat the analysis for each of the 4 age groups individually. \n"
      ]
    },
    {
      "cell_type": "code",
      "metadata": {
        "colab": {
          "base_uri": "https://localhost:8080/"
        },
        "id": "nAMvp6Wse69c",
        "outputId": "dd992c22-7ff6-4906-b391-b7a9b8fbdeca"
      },
      "source": [
        "df_end_1 = df_end.loc[df[\"age\"]=='13-17',]\n",
        "df_end_1['constant'] = 1\n",
        "mod =IV2SLS(df_end_1.play_min, df_end_1[['constant', 'ad_min_actual']], df_end_1[['constant', 'treated_ad_min']])\n",
        "res = mod.fit()\n",
        "print(res.summary())"
      ],
      "execution_count": null,
      "outputs": [
        {
          "output_type": "stream",
          "text": [
            "                          IV2SLS Regression Results                           \n",
            "==============================================================================\n",
            "Dep. Variable:               play_min   R-squared:                       0.004\n",
            "Model:                         IV2SLS   Adj. R-squared:                  0.004\n",
            "Method:                     Two Stage   F-statistic:                    0.5438\n",
            "                        Least Squares   Prob (F-statistic):              0.461\n",
            "Date:                Sat, 26 Jun 2021                                         \n",
            "Time:                        23:47:15                                         \n",
            "No. Observations:                9665                                         \n",
            "Df Residuals:                    9663                                         \n",
            "Df Model:                           1                                         \n",
            "=================================================================================\n",
            "                    coef    std err          t      P>|t|      [0.025      0.975]\n",
            "---------------------------------------------------------------------------------\n",
            "constant        259.6611      6.994     37.127      0.000     245.952     273.371\n",
            "ad_min_actual    -2.1074      2.858     -0.737      0.461      -7.709       3.494\n",
            "==============================================================================\n",
            "Omnibus:                     1255.238   Durbin-Watson:                   2.003\n",
            "Prob(Omnibus):                  0.000   Jarque-Bera (JB):             1795.826\n",
            "Skew:                           1.035   Prob(JB):                         0.00\n",
            "Kurtosis:                       3.421   Cond. No.                         5.03\n",
            "==============================================================================\n"
          ],
          "name": "stdout"
        },
        {
          "output_type": "stream",
          "text": [
            "/usr/local/lib/python3.7/dist-packages/ipykernel_launcher.py:2: SettingWithCopyWarning: \n",
            "A value is trying to be set on a copy of a slice from a DataFrame.\n",
            "Try using .loc[row_indexer,col_indexer] = value instead\n",
            "\n",
            "See the caveats in the documentation: https://pandas.pydata.org/pandas-docs/stable/user_guide/indexing.html#returning-a-view-versus-a-copy\n",
            "  \n"
          ],
          "name": "stderr"
        }
      ]
    },
    {
      "cell_type": "code",
      "metadata": {
        "id": "4UhJTcKkiToy"
      },
      "source": [
        "def get_reduced_form (dfx):\n",
        "    mod = smf.ols(formula='ad_min_actual ~ treated_ad_min', data=dfx)\n",
        "    res = mod.fit()\n",
        "    mod2 = smf.ols(formula='play_min ~ treated_ad_min', data=dfx)\n",
        "    res2 = mod2.fit()\n",
        "    B_rf = res2.params[1]\n",
        "    B_1s = res.params[1]\n",
        "    B_ToT = B_rf/B_1s\n",
        "    return B_ToT"
      ],
      "execution_count": null,
      "outputs": []
    },
    {
      "cell_type": "code",
      "metadata": {
        "colab": {
          "base_uri": "https://localhost:8080/"
        },
        "id": "9b7I87fju7mb",
        "outputId": "8fd30657-ca35-4e60-cee7-904ca53e3cf4"
      },
      "source": [
        "get_reduced_form(df_end_1)"
      ],
      "execution_count": null,
      "outputs": [
        {
          "output_type": "execute_result",
          "data": {
            "text/plain": [
              "-2.107380329958182"
            ]
          },
          "metadata": {
            "tags": []
          },
          "execution_count": 41
        }
      ]
    },
    {
      "cell_type": "code",
      "metadata": {
        "colab": {
          "base_uri": "https://localhost:8080/"
        },
        "id": "72l8LfSLfhVs",
        "outputId": "1f09772c-6859-48e7-ed6e-a0dba0973f9d"
      },
      "source": [
        "df_end_2 = df_end.loc[df[\"age\"]=='18-24',]\n",
        "df_end_2['constant'] = 1\n",
        "mod =IV2SLS(df_end_2.play_min, df_end_2[['constant', 'ad_min_actual']], df_end_2[['constant', 'treated_ad_min']])\n",
        "res = mod.fit()\n",
        "print(res.summary())"
      ],
      "execution_count": null,
      "outputs": [
        {
          "output_type": "stream",
          "text": [
            "                          IV2SLS Regression Results                           \n",
            "==============================================================================\n",
            "Dep. Variable:               play_min   R-squared:                       0.020\n",
            "Model:                         IV2SLS   Adj. R-squared:                  0.020\n",
            "Method:                     Two Stage   F-statistic:                     10.85\n",
            "                        Least Squares   Prob (F-statistic):           0.000992\n",
            "Date:                Sat, 26 Jun 2021                                         \n",
            "Time:                        23:51:38                                         \n",
            "No. Observations:               14315                                         \n",
            "Df Residuals:                   14313                                         \n",
            "Df Model:                           1                                         \n",
            "=================================================================================\n",
            "                    coef    std err          t      P>|t|      [0.025      0.975]\n",
            "---------------------------------------------------------------------------------\n",
            "constant        375.4609      8.251     45.505      0.000     359.288     391.634\n",
            "ad_min_actual    -8.5678      2.601     -3.294      0.001     -13.667      -3.469\n",
            "==============================================================================\n",
            "Omnibus:                     1125.609   Durbin-Watson:                   2.028\n",
            "Prob(Omnibus):                  0.000   Jarque-Bera (JB):             1415.130\n",
            "Skew:                           0.770   Prob(JB):                    5.11e-308\n",
            "Kurtosis:                       2.984   Cond. No.                         7.28\n",
            "==============================================================================\n"
          ],
          "name": "stdout"
        },
        {
          "output_type": "stream",
          "text": [
            "/usr/local/lib/python3.7/dist-packages/ipykernel_launcher.py:2: SettingWithCopyWarning: \n",
            "A value is trying to be set on a copy of a slice from a DataFrame.\n",
            "Try using .loc[row_indexer,col_indexer] = value instead\n",
            "\n",
            "See the caveats in the documentation: https://pandas.pydata.org/pandas-docs/stable/user_guide/indexing.html#returning-a-view-versus-a-copy\n",
            "  \n"
          ],
          "name": "stderr"
        }
      ]
    },
    {
      "cell_type": "code",
      "metadata": {
        "colab": {
          "base_uri": "https://localhost:8080/"
        },
        "id": "ez7h4rFlvGyQ",
        "outputId": "bdb8671b-a372-4543-dd20-2ea1f4de623d"
      },
      "source": [
        "get_reduced_form(df_end_2)"
      ],
      "execution_count": null,
      "outputs": [
        {
          "output_type": "execute_result",
          "data": {
            "text/plain": [
              "-8.567786975012629"
            ]
          },
          "metadata": {
            "tags": []
          },
          "execution_count": 43
        }
      ]
    },
    {
      "cell_type": "code",
      "metadata": {
        "colab": {
          "base_uri": "https://localhost:8080/"
        },
        "id": "pxWRVb2zf0Rz",
        "outputId": "a53b341f-9b61-49c9-8c2a-4889ef53bb7e"
      },
      "source": [
        "df_end_3 = df_end.loc[df[\"age\"]=='25-54',]\n",
        "df_end_3['constant'] = 1\n",
        "mod =IV2SLS(df_end_3.play_min, df_end_3[['constant', 'ad_min_actual']], df_end_3[['constant', 'treated_ad_min']])\n",
        "res = mod.fit()\n",
        "print(res.summary())"
      ],
      "execution_count": null,
      "outputs": [
        {
          "output_type": "stream",
          "text": [
            "                          IV2SLS Regression Results                           \n",
            "==============================================================================\n",
            "Dep. Variable:               play_min   R-squared:                       0.023\n",
            "Model:                         IV2SLS   Adj. R-squared:                  0.023\n",
            "Method:                     Two Stage   F-statistic:                     16.11\n",
            "                        Least Squares   Prob (F-statistic):           6.00e-05\n",
            "Date:                Sat, 26 Jun 2021                                         \n",
            "Time:                        23:51:56                                         \n",
            "No. Observations:               16755                                         \n",
            "Df Residuals:                   16753                                         \n",
            "Df Model:                           1                                         \n",
            "=================================================================================\n",
            "                    coef    std err          t      P>|t|      [0.025      0.975]\n",
            "---------------------------------------------------------------------------------\n",
            "constant        485.4117      8.310     58.410      0.000     469.122     501.701\n",
            "ad_min_actual   -10.6113      2.644     -4.014      0.000     -15.793      -5.429\n",
            "==============================================================================\n",
            "Omnibus:                      764.421   Durbin-Watson:                   2.026\n",
            "Prob(Omnibus):                  0.000   Jarque-Bera (JB):              815.759\n",
            "Skew:                           0.516   Prob(JB):                    7.25e-178\n",
            "Kurtosis:                       2.681   Cond. No.                         7.23\n",
            "==============================================================================\n"
          ],
          "name": "stdout"
        },
        {
          "output_type": "stream",
          "text": [
            "/usr/local/lib/python3.7/dist-packages/ipykernel_launcher.py:2: SettingWithCopyWarning: \n",
            "A value is trying to be set on a copy of a slice from a DataFrame.\n",
            "Try using .loc[row_indexer,col_indexer] = value instead\n",
            "\n",
            "See the caveats in the documentation: https://pandas.pydata.org/pandas-docs/stable/user_guide/indexing.html#returning-a-view-versus-a-copy\n",
            "  \n"
          ],
          "name": "stderr"
        }
      ]
    },
    {
      "cell_type": "code",
      "metadata": {
        "colab": {
          "base_uri": "https://localhost:8080/"
        },
        "id": "8NKj0qstvLGx",
        "outputId": "3c73466e-3c8e-47a5-e980-2499830d4130"
      },
      "source": [
        "get_reduced_form(df_end_3)"
      ],
      "execution_count": null,
      "outputs": [
        {
          "output_type": "execute_result",
          "data": {
            "text/plain": [
              "-10.61131379482532"
            ]
          },
          "metadata": {
            "tags": []
          },
          "execution_count": 45
        }
      ]
    },
    {
      "cell_type": "code",
      "metadata": {
        "colab": {
          "base_uri": "https://localhost:8080/"
        },
        "id": "0WRaJSTpf_uL",
        "outputId": "c47a01b2-332b-42ee-d945-40137c5c9650"
      },
      "source": [
        "df_end_4 = df_end.loc[df[\"age\"]=='55+',]\n",
        "df_end_4['constant'] = 1\n",
        "mod =IV2SLS(df_end_4.play_min, df_end_4[['constant', 'ad_min_actual']], df_end_4[['constant', 'treated_ad_min']])\n",
        "res = mod.fit()\n",
        "print(res.summary())"
      ],
      "execution_count": null,
      "outputs": [
        {
          "output_type": "stream",
          "text": [
            "                          IV2SLS Regression Results                           \n",
            "==============================================================================\n",
            "Dep. Variable:               play_min   R-squared:                       0.013\n",
            "Model:                         IV2SLS   Adj. R-squared:                  0.013\n",
            "Method:                     Two Stage   F-statistic:                     2.947\n",
            "                        Least Squares   Prob (F-statistic):             0.0861\n",
            "Date:                Sat, 26 Jun 2021                                         \n",
            "Time:                        23:52:18                                         \n",
            "No. Observations:                7265                                         \n",
            "Df Residuals:                    7263                                         \n",
            "Df Model:                           1                                         \n",
            "=================================================================================\n",
            "                    coef    std err          t      P>|t|      [0.025      0.975]\n",
            "---------------------------------------------------------------------------------\n",
            "constant        173.3863      6.720     25.800      0.000     160.212     186.560\n",
            "ad_min_actual    -4.8283      2.812     -1.717      0.086     -10.342       0.685\n",
            "==============================================================================\n",
            "Omnibus:                     1962.018   Durbin-Watson:                   1.976\n",
            "Prob(Omnibus):                  0.000   Jarque-Bera (JB):             4286.442\n",
            "Skew:                           1.573   Prob(JB):                         0.00\n",
            "Kurtosis:                       5.064   Cond. No.                         4.91\n",
            "==============================================================================\n"
          ],
          "name": "stdout"
        },
        {
          "output_type": "stream",
          "text": [
            "/usr/local/lib/python3.7/dist-packages/ipykernel_launcher.py:2: SettingWithCopyWarning: \n",
            "A value is trying to be set on a copy of a slice from a DataFrame.\n",
            "Try using .loc[row_indexer,col_indexer] = value instead\n",
            "\n",
            "See the caveats in the documentation: https://pandas.pydata.org/pandas-docs/stable/user_guide/indexing.html#returning-a-view-versus-a-copy\n",
            "  \n"
          ],
          "name": "stderr"
        }
      ]
    },
    {
      "cell_type": "code",
      "metadata": {
        "colab": {
          "base_uri": "https://localhost:8080/"
        },
        "id": "QoVphknQvRCx",
        "outputId": "0a384335-351a-4caf-d24f-ae11f337e6cc"
      },
      "source": [
        "get_reduced_form(df_end_4)"
      ],
      "execution_count": null,
      "outputs": [
        {
          "output_type": "execute_result",
          "data": {
            "text/plain": [
              "-4.828340519582028"
            ]
          },
          "metadata": {
            "tags": []
          },
          "execution_count": 47
        }
      ]
    },
    {
      "cell_type": "markdown",
      "metadata": {
        "id": "Mhcyq_Llgt4C"
      },
      "source": [
        "The group age 13-17 (-2.107) has the largest change in treatment effect to the result (-7.645)."
      ]
    }
  ]
}